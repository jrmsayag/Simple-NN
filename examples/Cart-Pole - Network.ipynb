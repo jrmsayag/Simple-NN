{
 "cells": [
  {
   "cell_type": "markdown",
   "metadata": {},
   "source": [
    "# Imports"
   ]
  },
  {
   "cell_type": "code",
   "execution_count": 8,
   "metadata": {},
   "outputs": [],
   "source": [
    "import gym\n",
    "import wandb\n",
    "import numpy as np\n",
    "import pandas as pd"
   ]
  },
  {
   "cell_type": "code",
   "execution_count": 9,
   "metadata": {},
   "outputs": [],
   "source": [
    "from simplenn.structures.network.activations import LRelu\n",
    "from simplenn.structures.network.activations import TanH\n",
    "from simplenn.structures.network.activations import Sigmoid\n",
    "from simplenn.evaluation.simulation import Simulation\n",
    "from simplenn.structures.network import Network\n",
    "from simplenn.structures.network import Layer\n",
    "from simplenn.optim.evolution import Genetic"
   ]
  },
  {
   "cell_type": "code",
   "execution_count": 10,
   "metadata": {},
   "outputs": [],
   "source": [
    "#env = gym.make('MountainCar-v0')\n",
    "#env = gym.make('Acrobot-v1')\n",
    "#env = gym.make('CartPole-v0')\n",
    "env = gym.make('CartPole-v1')"
   ]
  },
  {
   "cell_type": "code",
   "execution_count": 11,
   "metadata": {},
   "outputs": [],
   "source": [
    "%matplotlib tk"
   ]
  },
  {
   "cell_type": "markdown",
   "metadata": {},
   "source": [
    "# Performing experiment"
   ]
  },
  {
   "cell_type": "code",
   "execution_count": 12,
   "metadata": {},
   "outputs": [],
   "source": [
    "# Config dict\n",
    "config = {}\n",
    "\n",
    "# Genetic parameters\n",
    "config[\"popSize\"] = 50\n",
    "config[\"nElitism\"] = 1\n",
    "config[\"generations\"] = 20\n",
    "config[\"tournamentSize\"] = 5\n",
    "config[\"mutationProba\"] = 0.25\n",
    "config[\"mutationScale\"] = 0.05\n",
    "config[\"mutationRelative\"] = False\n",
    "\n",
    "# Evaluation related parameters\n",
    "config[\"nTest\"] = 10\n",
    "config[\"actionSelectionMode\"] = \"argmax\"\n",
    "config[\"verboseFreq\"] = 1\n",
    "config[\"recordFreq\"] = 1\n",
    "\n",
    "# Wandb only parameters\n",
    "config[\"envId\"] = env.env.spec.id"
   ]
  },
  {
   "cell_type": "code",
   "execution_count": 13,
   "metadata": {},
   "outputs": [],
   "source": [
    "def doLearning(config):\n",
    "    \n",
    "    Q = Network(\n",
    "        Simulation(env, config[\"nTest\"], config[\"actionSelectionMode\"], True),\n",
    "        [\n",
    "            Layer(env.observation_space.shape[0], 3, Sigmoid(), \"kaiming\"),\n",
    "            Layer(3, env.action_space.n, Sigmoid(), \"kaiming\", True)\n",
    "        ]\n",
    "    )\n",
    "    config[\"qfunctionClass\"] = Q.__class__.__name__\n",
    "    config[\"networkTopology\"] = Q.printTopology()\n",
    "    \n",
    "    algo = Genetic()\n",
    "    config[\"algoClass\"] = algo.__class__.__name__\n",
    "    \n",
    "    wandb.init(project=\"simple_rl\", config=config)\n",
    "    \n",
    "    Q = algo.run(\n",
    "        Q, \n",
    "        None, \n",
    "        None, \n",
    "        config[\"popSize\"], \n",
    "        config[\"tournamentSize\"],\n",
    "        config[\"nElitism\"], \n",
    "        config[\"mutationProba\"], \n",
    "        config[\"mutationScale\"], \n",
    "        config[\"mutationRelative\"], \n",
    "        config[\"generations\"], \n",
    "        config[\"verboseFreq\"], \n",
    "        config[\"recordFreq\"],\n",
    "        wandb\n",
    "    )\n",
    "    \n",
    "    return (Q, algo)"
   ]
  },
  {
   "cell_type": "code",
   "execution_count": 14,
   "metadata": {},
   "outputs": [
    {
     "name": "stdout",
     "output_type": "stream",
     "text": [
      "1/3\n"
     ]
    },
    {
     "data": {
      "text/html": [
       "\n",
       "                Logging results to <a href=\"https://wandb.com\" target=\"_blank\">Weights & Biases</a> <a href=\"https://docs.wandb.com/integrations/jupyter.html\" target=\"_blank\">(Documentation)</a>.<br/>\n",
       "                Project page: <a href=\"https://app.wandb.ai/jrmsayag/simple_rl\" target=\"_blank\">https://app.wandb.ai/jrmsayag/simple_rl</a><br/>\n",
       "                Run page: <a href=\"https://app.wandb.ai/jrmsayag/simple_rl/runs/3szkei3d\" target=\"_blank\">https://app.wandb.ai/jrmsayag/simple_rl/runs/3szkei3d</a><br/>\n",
       "            "
      ],
      "text/plain": [
       "<IPython.core.display.HTML object>"
      ]
     },
     "metadata": {},
     "output_type": "display_data"
    },
    {
     "name": "stdout",
     "output_type": "stream",
     "text": [
      "2/3\n"
     ]
    },
    {
     "data": {
      "text/html": [
       "\n",
       "                Logging results to <a href=\"https://wandb.com\" target=\"_blank\">Weights & Biases</a> <a href=\"https://docs.wandb.com/integrations/jupyter.html\" target=\"_blank\">(Documentation)</a>.<br/>\n",
       "                Project page: <a href=\"https://app.wandb.ai/jrmsayag/simple_rl\" target=\"_blank\">https://app.wandb.ai/jrmsayag/simple_rl</a><br/>\n",
       "                Run page: <a href=\"https://app.wandb.ai/jrmsayag/simple_rl/runs/257pdkhk\" target=\"_blank\">https://app.wandb.ai/jrmsayag/simple_rl/runs/257pdkhk</a><br/>\n",
       "            "
      ],
      "text/plain": [
       "<IPython.core.display.HTML object>"
      ]
     },
     "metadata": {},
     "output_type": "display_data"
    },
    {
     "name": "stdout",
     "output_type": "stream",
     "text": [
      "3/3\n"
     ]
    },
    {
     "data": {
      "text/html": [
       "\n",
       "                Logging results to <a href=\"https://wandb.com\" target=\"_blank\">Weights & Biases</a> <a href=\"https://docs.wandb.com/integrations/jupyter.html\" target=\"_blank\">(Documentation)</a>.<br/>\n",
       "                Project page: <a href=\"https://app.wandb.ai/jrmsayag/simple_rl\" target=\"_blank\">https://app.wandb.ai/jrmsayag/simple_rl</a><br/>\n",
       "                Run page: <a href=\"https://app.wandb.ai/jrmsayag/simple_rl/runs/9c8pk0n9\" target=\"_blank\">https://app.wandb.ai/jrmsayag/simple_rl/runs/9c8pk0n9</a><br/>\n",
       "            "
      ],
      "text/plain": [
       "<IPython.core.display.HTML object>"
      ]
     },
     "metadata": {},
     "output_type": "display_data"
    }
   ],
   "source": [
    "nRuns = 3\n",
    "\n",
    "for i in range(nRuns):\n",
    "    \n",
    "    print(f\"{i+1}/{nRuns}\")\n",
    "    Q, algo = doLearning(config)"
   ]
  },
  {
   "cell_type": "markdown",
   "metadata": {},
   "source": [
    "# Analyzing the results"
   ]
  },
  {
   "cell_type": "markdown",
   "metadata": {},
   "source": [
    "### Animation"
   ]
  },
  {
   "cell_type": "code",
   "execution_count": 23,
   "metadata": {},
   "outputs": [
    {
     "name": "stdout",
     "output_type": "stream",
     "text": [
      "Score: 500.0\n"
     ]
    }
   ],
   "source": [
    "print(f\"Score: {Q.loss.performEpisode(Q, render=True)}\")"
   ]
  },
  {
   "cell_type": "markdown",
   "metadata": {},
   "source": [
    "### Score distribution"
   ]
  },
  {
   "cell_type": "code",
   "execution_count": 21,
   "metadata": {
    "scrolled": true
   },
   "outputs": [
    {
     "data": {
      "text/plain": [
       "count    250.000000\n",
       "mean     467.588000\n",
       "std       78.958038\n",
       "min      176.000000\n",
       "25%      500.000000\n",
       "50%      500.000000\n",
       "75%      500.000000\n",
       "max      500.000000\n",
       "dtype: float64"
      ]
     },
     "execution_count": 21,
     "metadata": {},
     "output_type": "execute_result"
    }
   ],
   "source": [
    "pd.Series([Q.loss.performEpisode(Q) for _ in range(250)]).describe()"
   ]
  },
  {
   "cell_type": "code",
   "execution_count": null,
   "metadata": {},
   "outputs": [],
   "source": []
  }
 ],
 "metadata": {
  "kernelspec": {
   "display_name": "Python 3",
   "language": "python",
   "name": "python3"
  },
  "language_info": {
   "codemirror_mode": {
    "name": "ipython",
    "version": 3
   },
   "file_extension": ".py",
   "mimetype": "text/x-python",
   "name": "python",
   "nbconvert_exporter": "python",
   "pygments_lexer": "ipython3",
   "version": "3.7.5"
  }
 },
 "nbformat": 4,
 "nbformat_minor": 2
}
