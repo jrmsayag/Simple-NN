{
 "cells": [
  {
   "cell_type": "markdown",
   "metadata": {},
   "source": [
    "# Imports"
   ]
  },
  {
   "cell_type": "code",
   "execution_count": 1,
   "metadata": {},
   "outputs": [],
   "source": [
    "import numpy as np\n",
    "import pandas as pd\n",
    "import numexpr as ne"
   ]
  },
  {
   "cell_type": "code",
   "execution_count": 2,
   "metadata": {},
   "outputs": [],
   "source": [
    "from simplenn.structures.network.activations import LRelu\n",
    "from simplenn.structures.network.activations import Sigmoid\n",
    "from simplenn.structures.network.activations import TanH\n",
    "from simplenn.evaluation.loss import Square\n",
    "from simplenn.evaluation.loss import NegLogLike\n",
    "from simplenn.structures.network import Network\n",
    "from simplenn.structures.network import Layer\n",
    "from simplenn.optim.gradient import BackProp\n",
    "from simplenn.optim.evolution import Genetic"
   ]
  },
  {
   "cell_type": "code",
   "execution_count": 3,
   "metadata": {},
   "outputs": [
    {
     "name": "stdout",
     "output_type": "stream",
     "text": [
      "Using matplotlib backend: TkAgg\n"
     ]
    }
   ],
   "source": [
    "%matplotlib"
   ]
  },
  {
   "cell_type": "markdown",
   "metadata": {},
   "source": [
    "# Data"
   ]
  },
  {
   "cell_type": "code",
   "execution_count": 4,
   "metadata": {},
   "outputs": [],
   "source": [
    "xs = np.array(\n",
    "    [\n",
    "        [0,0,0,0,0,0,0,0,0,1],\n",
    "        [0,0,0,0,0,0,0,0,1,0],\n",
    "        [0,0,0,0,0,0,0,1,0,0],\n",
    "        [0,0,0,0,0,0,1,0,0,0],\n",
    "        [0,0,0,0,0,1,0,0,0,0],\n",
    "        [0,0,0,0,1,0,0,0,0,0],\n",
    "        [0,0,0,1,0,0,0,0,0,0],\n",
    "        [0,0,1,0,0,0,0,0,0,0],\n",
    "        [0,1,0,0,0,0,0,0,0,0],\n",
    "        [1,0,0,0,0,0,0,0,0,0]\n",
    "    ],\n",
    "    dtype='float64'\n",
    ").T\n",
    "\n",
    "ys = np.array(\n",
    "    [\n",
    "        [0,0,0,0],\n",
    "        [0,0,0,1],\n",
    "        [0,0,1,0],\n",
    "        [0,0,1,1],\n",
    "        [0,1,0,0],\n",
    "        [0,1,0,1],\n",
    "        [0,1,1,0],\n",
    "        [0,1,1,1],\n",
    "        [1,0,0,0],\n",
    "        [1,0,0,1]\n",
    "    ],\n",
    "    dtype='float64'\n",
    ").T"
   ]
  },
  {
   "cell_type": "markdown",
   "metadata": {},
   "source": [
    "# Experiments"
   ]
  },
  {
   "cell_type": "markdown",
   "metadata": {},
   "source": [
    "### Genetic Training"
   ]
  },
  {
   "cell_type": "code",
   "execution_count": 5,
   "metadata": {},
   "outputs": [],
   "source": [
    "popSize = 50\n",
    "nElitism = 0\n",
    "generations = 500\n",
    "tournamentSize = 5\n",
    "mutationProba = 0.5\n",
    "mutationScale = 0.05\n",
    "mutationRelative = False\n",
    "verboseFreq = 50\n",
    "recordFreq = 50"
   ]
  },
  {
   "cell_type": "code",
   "execution_count": 6,
   "metadata": {},
   "outputs": [],
   "source": [
    "net = Network([\n",
    "    Layer(xs.shape[0], 7, TanH(), \"kaiming\"),\n",
    "    Layer(7, 7, TanH(), \"kaiming\"),\n",
    "    Layer(7, ys.shape[0], Sigmoid(), \"kaiming\", True)\n",
    "])"
   ]
  },
  {
   "cell_type": "code",
   "execution_count": 7,
   "metadata": {},
   "outputs": [],
   "source": [
    "loss = NegLogLike(xs, ys)"
   ]
  },
  {
   "cell_type": "code",
   "execution_count": 8,
   "metadata": {
    "scrolled": true
   },
   "outputs": [
    {
     "name": "stdout",
     "output_type": "stream",
     "text": [
      "Generation 0 (ep. 500): 26.036855391251166\n",
      "Generation 50 (ep. 25500): 8.301523034227332\n",
      "Generation 100 (ep. 50500): 1.271359557517998\n",
      "Generation 150 (ep. 75500): 0.1732457900013513\n",
      "Generation 200 (ep. 100500): 0.028274484663268765\n",
      "Generation 250 (ep. 125500): 0.005099651656763824\n",
      "Generation 300 (ep. 150500): 0.0012492455545575413\n",
      "Generation 350 (ep. 175500): 0.00017795046458963035\n",
      "Generation 400 (ep. 200500): 3.0470813705071013e-05\n",
      "Generation 450 (ep. 225500): 7.247590573797943e-06\n"
     ]
    }
   ],
   "source": [
    "genetic = Genetic()\n",
    "net = genetic.run(\n",
    "    net, \n",
    "    loss,\n",
    "    popSize, \n",
    "    tournamentSize,\n",
    "    nElitism, \n",
    "    mutationProba, \n",
    "    mutationScale, \n",
    "    mutationRelative, \n",
    "    generations, \n",
    "    verboseFreq, \n",
    "    recordFreq)"
   ]
  },
  {
   "cell_type": "code",
   "execution_count": 9,
   "metadata": {},
   "outputs": [
    {
     "data": {
      "text/plain": [
       "array([[0., 0., 0., 0., 0., 0., 0., 0., 1.],\n",
       "       [0., 0., 0., 0., 1., 1., 1., 1., 0.],\n",
       "       [0., 0., 1., 1., 0., 0., 1., 1., 0.],\n",
       "       [0., 1., 0., 1., 0., 1., 0., 1., 0.]])"
      ]
     },
     "execution_count": 9,
     "metadata": {},
     "output_type": "execute_result"
    }
   ],
   "source": [
    "net.forward(xs[:,:9]).round(2)"
   ]
  },
  {
   "cell_type": "markdown",
   "metadata": {},
   "source": [
    "### Gradient Back-Propagation Training"
   ]
  },
  {
   "cell_type": "code",
   "execution_count": 5,
   "metadata": {},
   "outputs": [],
   "source": [
    "lRate = 0.1\n",
    "batchSize = xs.shape[1]\n",
    "epochs = 100*1000\n",
    "verboseFreq = 10*1000\n",
    "recordFreq = 10*1000"
   ]
  },
  {
   "cell_type": "code",
   "execution_count": 6,
   "metadata": {},
   "outputs": [],
   "source": [
    "net = Network([\n",
    "    Layer(xs.shape[0], 7, TanH(), \"xavier\"),\n",
    "    Layer(7, 7, TanH(), \"xavier\"),\n",
    "    Layer(7, 7, TanH(), \"xavier\"),\n",
    "    Layer(7, 7, TanH(), \"xavier\"),\n",
    "    Layer(7, ys.shape[0], Sigmoid(), \"xavier\", True)\n",
    "])"
   ]
  },
  {
   "cell_type": "code",
   "execution_count": 7,
   "metadata": {},
   "outputs": [],
   "source": [
    "loss = NegLogLike(xs, ys)"
   ]
  },
  {
   "cell_type": "code",
   "execution_count": 8,
   "metadata": {
    "scrolled": true
   },
   "outputs": [
    {
     "name": "stdout",
     "output_type": "stream",
     "text": [
      "Epoch 0: 27.791463150455247\n",
      "Epoch 10000: 0.032948381998278944\n",
      "Epoch 20000: 0.016062976965653827\n",
      "Epoch 30000: 0.010574306038035561\n",
      "Epoch 40000: 0.007865323699982364\n",
      "Epoch 50000: 0.006253909031973549\n",
      "Epoch 60000: 0.005186511366749021\n",
      "Epoch 70000: 0.0044279551214476956\n",
      "Epoch 80000: 0.0038614230671050196\n",
      "Epoch 90000: 0.003422356908857351\n"
     ]
    }
   ],
   "source": [
    "bp = BackProp()\n",
    "net = bp.run(\n",
    "    net, \n",
    "    loss, \n",
    "    batchSize, \n",
    "    lRate, \n",
    "    epochs, \n",
    "    verboseFreq, \n",
    "    recordFreq)"
   ]
  },
  {
   "cell_type": "code",
   "execution_count": 9,
   "metadata": {},
   "outputs": [
    {
     "data": {
      "text/plain": [
       "array([[0., 0., 0., 0., 0., 0., 0., 0., 1.],\n",
       "       [0., 0., 0., 0., 1., 1., 1., 1., 0.],\n",
       "       [0., 0., 1., 1., 0., 0., 1., 1., 0.],\n",
       "       [0., 1., 0., 1., 0., 1., 0., 1., 0.]])"
      ]
     },
     "execution_count": 9,
     "metadata": {},
     "output_type": "execute_result"
    }
   ],
   "source": [
    "net.forward(xs[:,:9]).round(2)"
   ]
  },
  {
   "cell_type": "markdown",
   "metadata": {},
   "source": [
    "### Network exploration"
   ]
  },
  {
   "cell_type": "code",
   "execution_count": 11,
   "metadata": {},
   "outputs": [],
   "source": [
    "df = pd.DataFrame({\n",
    "    f\"Layer-{i}\":pd.Series([np.abs(n.layers[i].W).sum() for n in bp.networks])\n",
    "    for i in range(len(bp.networks[0].layers))\n",
    "}).plot(title='Weights Norm Evolution')"
   ]
  },
  {
   "cell_type": "code",
   "execution_count": 12,
   "metadata": {},
   "outputs": [],
   "source": [
    "## Backprop specific\n",
    "df = pd.DataFrame({\n",
    "    f\"Layer-{i}\":pd.Series([np.abs(n.layers[i].delta_W).sum() for n in bp.networks])\n",
    "    for i in range(len(bp.networks[0].layers))\n",
    "}).plot(title='Gradient Norm Evolution')"
   ]
  },
  {
   "cell_type": "code",
   "execution_count": 13,
   "metadata": {},
   "outputs": [
    {
     "data": {
      "text/plain": [
       "array([[<matplotlib.axes._subplots.AxesSubplot object at 0x7f697d1ec410>,\n",
       "        <matplotlib.axes._subplots.AxesSubplot object at 0x7f697d131650>],\n",
       "       [<matplotlib.axes._subplots.AxesSubplot object at 0x7f697d0e3e50>,\n",
       "        <matplotlib.axes._subplots.AxesSubplot object at 0x7f697d0a2690>],\n",
       "       [<matplotlib.axes._subplots.AxesSubplot object at 0x7f697d056e90>,\n",
       "        <matplotlib.axes._subplots.AxesSubplot object at 0x7f697d0186d0>]],\n",
       "      dtype=object)"
      ]
     },
     "execution_count": 13,
     "metadata": {},
     "output_type": "execute_result"
    }
   ],
   "source": [
    "net = bp.networks[-1]\n",
    "df = pd.concat(\n",
    "    [pd.Series(net.layers[i].W.flatten(), name=f\"W{i}\") for i in range(len(net.layers))],\n",
    "    axis=1\n",
    ")\n",
    "df.hist(bins=20)"
   ]
  },
  {
   "cell_type": "code",
   "execution_count": 14,
   "metadata": {},
   "outputs": [
    {
     "data": {
      "text/plain": [
       "array([[<matplotlib.axes._subplots.AxesSubplot object at 0x7f697ce6cf10>,\n",
       "        <matplotlib.axes._subplots.AxesSubplot object at 0x7f697ce39590>],\n",
       "       [<matplotlib.axes._subplots.AxesSubplot object at 0x7f697cdecd90>,\n",
       "        <matplotlib.axes._subplots.AxesSubplot object at 0x7f697cdad5d0>],\n",
       "       [<matplotlib.axes._subplots.AxesSubplot object at 0x7f697cd61dd0>,\n",
       "        <matplotlib.axes._subplots.AxesSubplot object at 0x7f697cd22610>]],\n",
       "      dtype=object)"
      ]
     },
     "execution_count": 14,
     "metadata": {},
     "output_type": "execute_result"
    }
   ],
   "source": [
    "net = bp.networks[-1]\n",
    "df = pd.concat(\n",
    "    [pd.Series(net.layers[i].A.flatten(), name=f\"A{i}\") for i in range(len(net.layers))],\n",
    "    axis=1\n",
    ")\n",
    "df.hist(bins=20)"
   ]
  },
  {
   "cell_type": "code",
   "execution_count": 15,
   "metadata": {},
   "outputs": [
    {
     "data": {
      "text/plain": [
       "array([[<matplotlib.axes._subplots.AxesSubplot object at 0x7f697d16df10>,\n",
       "        <matplotlib.axes._subplots.AxesSubplot object at 0x7f697cb3d510>],\n",
       "       [<matplotlib.axes._subplots.AxesSubplot object at 0x7f697caf2d10>,\n",
       "        <matplotlib.axes._subplots.AxesSubplot object at 0x7f697cab1550>],\n",
       "       [<matplotlib.axes._subplots.AxesSubplot object at 0x7f697ca68d50>,\n",
       "        <matplotlib.axes._subplots.AxesSubplot object at 0x7f697ca27590>]],\n",
       "      dtype=object)"
      ]
     },
     "execution_count": 15,
     "metadata": {},
     "output_type": "execute_result"
    }
   ],
   "source": [
    "## Backprop specific\n",
    "net = bp.networks[-1]\n",
    "df = pd.concat(\n",
    "    [pd.Series(net.layers[i].delta_W.flatten(), name=f\"delta_W{i}\") for i in range(len(net.layers))],\n",
    "    axis=1\n",
    ")\n",
    "df.hist(bins=20)"
   ]
  },
  {
   "cell_type": "markdown",
   "metadata": {},
   "source": [
    "### Numexpr vs. Numpy"
   ]
  },
  {
   "cell_type": "code",
   "execution_count": 10,
   "metadata": {},
   "outputs": [
    {
     "name": "stdout",
     "output_type": "stream",
     "text": [
      "2.46 s ± 183 ms per loop (mean ± std. dev. of 7 runs, 1 loop each)\n"
     ]
    }
   ],
   "source": [
    "%%timeit\n",
    "A = np.random.random((10000, 5000))\n",
    "for _ in range(10):\n",
    "    A = ne.evaluate(\"cos(A)\")"
   ]
  },
  {
   "cell_type": "code",
   "execution_count": 11,
   "metadata": {},
   "outputs": [
    {
     "name": "stdout",
     "output_type": "stream",
     "text": [
      "6.07 s ± 155 ms per loop (mean ± std. dev. of 7 runs, 1 loop each)\n"
     ]
    }
   ],
   "source": [
    "%%timeit\n",
    "A = np.random.random((10000, 5000))\n",
    "for _ in range(10):\n",
    "    A = np.cos(A)"
   ]
  },
  {
   "cell_type": "code",
   "execution_count": null,
   "metadata": {},
   "outputs": [],
   "source": []
  }
 ],
 "metadata": {
  "kernelspec": {
   "display_name": "Python 3",
   "language": "python",
   "name": "python3"
  },
  "language_info": {
   "codemirror_mode": {
    "name": "ipython",
    "version": 3
   },
   "file_extension": ".py",
   "mimetype": "text/x-python",
   "name": "python",
   "nbconvert_exporter": "python",
   "pygments_lexer": "ipython3",
   "version": "3.7.5"
  }
 },
 "nbformat": 4,
 "nbformat_minor": 2
}
