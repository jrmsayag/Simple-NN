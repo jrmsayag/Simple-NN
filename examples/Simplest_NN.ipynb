{
 "cells": [
  {
   "cell_type": "markdown",
   "metadata": {},
   "source": [
    "# Imports"
   ]
  },
  {
   "cell_type": "code",
   "execution_count": 1,
   "metadata": {},
   "outputs": [],
   "source": [
    "import numpy as np\n",
    "import pandas as pd\n",
    "import numexpr as ne"
   ]
  },
  {
   "cell_type": "code",
   "execution_count": 3,
   "metadata": {},
   "outputs": [],
   "source": [
    "from simplenn.structures.network.activations import LRelu\n",
    "from simplenn.structures.network.activations import Sigmoid\n",
    "from simplenn.structures.network.activations import TanH\n",
    "from simplenn.evaluation.loss import Square\n",
    "from simplenn.evaluation.loss import NegLogLike\n",
    "from simplenn.structures.network import Network\n",
    "from simplenn.structures.network import Layer\n",
    "from simplenn.optim.gradient import BackProp\n",
    "from simplenn.optim.evolution import Genetic"
   ]
  },
  {
   "cell_type": "code",
   "execution_count": 4,
   "metadata": {},
   "outputs": [
    {
     "name": "stdout",
     "output_type": "stream",
     "text": [
      "Using matplotlib backend: TkAgg\n"
     ]
    }
   ],
   "source": [
    "%matplotlib"
   ]
  },
  {
   "cell_type": "markdown",
   "metadata": {},
   "source": [
    "# Data"
   ]
  },
  {
   "cell_type": "code",
   "execution_count": 5,
   "metadata": {},
   "outputs": [],
   "source": [
    "xs = np.array(\n",
    "    [\n",
    "        [0,0,0,0,0,0,0,0,0,1],\n",
    "        [0,0,0,0,0,0,0,0,1,0],\n",
    "        [0,0,0,0,0,0,0,1,0,0],\n",
    "        [0,0,0,0,0,0,1,0,0,0],\n",
    "        [0,0,0,0,0,1,0,0,0,0],\n",
    "        [0,0,0,0,1,0,0,0,0,0],\n",
    "        [0,0,0,1,0,0,0,0,0,0],\n",
    "        [0,0,1,0,0,0,0,0,0,0],\n",
    "        [0,1,0,0,0,0,0,0,0,0],\n",
    "        [1,0,0,0,0,0,0,0,0,0]\n",
    "    ],\n",
    "    dtype='float64'\n",
    ").T\n",
    "\n",
    "ys = np.array(\n",
    "    [\n",
    "        [0,0,0,0],\n",
    "        [0,0,0,1],\n",
    "        [0,0,1,0],\n",
    "        [0,0,1,1],\n",
    "        [0,1,0,0],\n",
    "        [0,1,0,1],\n",
    "        [0,1,1,0],\n",
    "        [0,1,1,1],\n",
    "        [1,0,0,0],\n",
    "        [1,0,0,1]\n",
    "    ],\n",
    "    dtype='float64'\n",
    ").T"
   ]
  },
  {
   "cell_type": "markdown",
   "metadata": {},
   "source": [
    "# Experiments"
   ]
  },
  {
   "cell_type": "markdown",
   "metadata": {},
   "source": [
    "### Genetic Training"
   ]
  },
  {
   "cell_type": "code",
   "execution_count": 6,
   "metadata": {},
   "outputs": [],
   "source": [
    "popSize = 50\n",
    "nElitism = 0\n",
    "generations = 500\n",
    "tournamentSize = 5\n",
    "mutationProba = 0.5\n",
    "mutationScale = 0.05\n",
    "mutationRelative = False\n",
    "verboseFreq = 50\n",
    "recordFreq = 50"
   ]
  },
  {
   "cell_type": "code",
   "execution_count": 7,
   "metadata": {},
   "outputs": [],
   "source": [
    "net = Network(\n",
    "    NegLogLike(),\n",
    "    [\n",
    "        Layer(xs.shape[0], 7, TanH(), \"kaiming\"),\n",
    "        Layer(7, 7, TanH(), \"kaiming\"),\n",
    "        Layer(7, ys.shape[0], Sigmoid(), \"kaiming\", True)\n",
    "    ]\n",
    ")"
   ]
  },
  {
   "cell_type": "code",
   "execution_count": 8,
   "metadata": {
    "scrolled": true
   },
   "outputs": [
    {
     "name": "stdout",
     "output_type": "stream",
     "text": [
      "Generation 0 (ep. 500): 26.429597722893945\n",
      "Generation 50 (ep. 25500): 6.554460786007132\n",
      "Generation 100 (ep. 50500): 0.8351360483330259\n",
      "Generation 150 (ep. 75500): 0.12350923107577268\n",
      "Generation 200 (ep. 100500): 0.01905290445226976\n",
      "Generation 250 (ep. 125500): 0.002829211209728115\n",
      "Generation 300 (ep. 150500): 0.0005005354316920893\n",
      "Generation 350 (ep. 175500): 0.00012592383129020782\n",
      "Generation 400 (ep. 200500): 2.5173264013696634e-05\n",
      "Generation 450 (ep. 225500): 7.444172599665618e-06\n"
     ]
    }
   ],
   "source": [
    "genetic = Genetic()\n",
    "net = genetic.run(\n",
    "    net, \n",
    "    xs, \n",
    "    ys, \n",
    "    popSize, \n",
    "    tournamentSize,\n",
    "    nElitism, \n",
    "    mutationProba, \n",
    "    mutationScale, \n",
    "    mutationRelative, \n",
    "    generations, \n",
    "    verboseFreq, \n",
    "    recordFreq)"
   ]
  },
  {
   "cell_type": "code",
   "execution_count": 9,
   "metadata": {},
   "outputs": [
    {
     "data": {
      "text/plain": [
       "array([[0., 0., 0., 0., 0., 0., 0., 0., 1.],\n",
       "       [0., 0., 0., 0., 1., 1., 1., 1., 0.],\n",
       "       [0., 0., 1., 1., 0., 0., 1., 1., 0.],\n",
       "       [0., 1., 0., 1., 0., 1., 0., 1., 0.]])"
      ]
     },
     "execution_count": 9,
     "metadata": {},
     "output_type": "execute_result"
    }
   ],
   "source": [
    "net.forward(xs[:,:9]).round(2)"
   ]
  },
  {
   "cell_type": "markdown",
   "metadata": {},
   "source": [
    "### Gradient Back-Propagation Training"
   ]
  },
  {
   "cell_type": "code",
   "execution_count": 10,
   "metadata": {},
   "outputs": [],
   "source": [
    "lRate = 0.1\n",
    "batchSize = xs.shape[1]\n",
    "epochs = 100*1000\n",
    "verboseFreq = 10*1000\n",
    "recordFreq = 10*1000"
   ]
  },
  {
   "cell_type": "code",
   "execution_count": 11,
   "metadata": {},
   "outputs": [],
   "source": [
    "net = Network(\n",
    "    NegLogLike(),\n",
    "    [\n",
    "        Layer(xs.shape[0], 7, TanH(), \"xavier\"),\n",
    "        Layer(7, 7, TanH(), \"xavier\"),\n",
    "        Layer(7, 7, TanH(), \"xavier\"),\n",
    "        Layer(7, 7, TanH(), \"xavier\"),\n",
    "        Layer(7, ys.shape[0], Sigmoid(), \"xavier\", True)\n",
    "    ]\n",
    ")"
   ]
  },
  {
   "cell_type": "code",
   "execution_count": 12,
   "metadata": {
    "scrolled": true
   },
   "outputs": [
    {
     "name": "stdout",
     "output_type": "stream",
     "text": [
      "Epoch 0: 31.978311364456587\n",
      "Epoch 10000: 0.02754628881524296\n",
      "Epoch 20000: 0.013539621468977782\n",
      "Epoch 30000: 0.008953049449001412\n",
      "Epoch 40000: 0.006679198893890351\n",
      "Epoch 50000: 0.005322529758981614\n",
      "Epoch 60000: 0.004421873922612738\n",
      "Epoch 70000: 0.0037807018244523914\n",
      "Epoch 80000: 0.0033011612520991458\n",
      "Epoch 90000: 0.0029290722551631844\n"
     ]
    },
    {
     "data": {
      "text/plain": [
       "<simplenn.structures.network.network.Network at 0x7f51a41f0710>"
      ]
     },
     "execution_count": 12,
     "metadata": {},
     "output_type": "execute_result"
    }
   ],
   "source": [
    "bp = BackProp()\n",
    "bp.run(net, xs, ys, batchSize, lRate, epochs, verboseFreq, recordFreq)"
   ]
  },
  {
   "cell_type": "code",
   "execution_count": 13,
   "metadata": {},
   "outputs": [
    {
     "data": {
      "text/plain": [
       "array([[0., 0., 0., 0., 0., 0., 0., 0., 1.],\n",
       "       [0., 0., 0., 0., 1., 1., 1., 1., 0.],\n",
       "       [0., 0., 1., 1., 0., 0., 1., 1., 0.],\n",
       "       [0., 1., 0., 1., 0., 1., 0., 1., 0.]])"
      ]
     },
     "execution_count": 13,
     "metadata": {},
     "output_type": "execute_result"
    }
   ],
   "source": [
    "net.forward(xs[:,:9]).round(2)"
   ]
  },
  {
   "cell_type": "markdown",
   "metadata": {},
   "source": [
    "### Network exploration"
   ]
  },
  {
   "cell_type": "code",
   "execution_count": 14,
   "metadata": {},
   "outputs": [],
   "source": [
    "df = pd.DataFrame({\n",
    "    f\"Layer-{i}\":pd.Series([np.abs(n.layers[i].W).sum() for n in genetic.networks])\n",
    "    for i in range(len(genetic.networks[0].layers))\n",
    "}).plot(title='Weights Norm Evolution')"
   ]
  },
  {
   "cell_type": "code",
   "execution_count": 15,
   "metadata": {},
   "outputs": [],
   "source": [
    "## Backprop specific\n",
    "df = pd.DataFrame({\n",
    "    f\"Layer-{i}\":pd.Series([np.abs(n.layers[i].delta_W).sum() for n in bp.networks])\n",
    "    for i in range(len(bp.networks[0].layers))\n",
    "}).plot(title='Gradient Norm Evolution')"
   ]
  },
  {
   "cell_type": "code",
   "execution_count": 16,
   "metadata": {},
   "outputs": [
    {
     "data": {
      "text/plain": [
       "array([[<matplotlib.axes._subplots.AxesSubplot object at 0x7f51a1332190>,\n",
       "        <matplotlib.axes._subplots.AxesSubplot object at 0x7f51a1206bd0>],\n",
       "       [<matplotlib.axes._subplots.AxesSubplot object at 0x7f51a11c8f10>,\n",
       "        <matplotlib.axes._subplots.AxesSubplot object at 0x7f51a117dc10>]],\n",
       "      dtype=object)"
      ]
     },
     "execution_count": 16,
     "metadata": {},
     "output_type": "execute_result"
    }
   ],
   "source": [
    "net = genetic.networks[-1]\n",
    "df = pd.concat(\n",
    "    [pd.Series(net.layers[i].W.flatten(), name=f\"W{i}\") for i in range(len(net.layers))],\n",
    "    axis=1\n",
    ")\n",
    "df.hist(bins=20)"
   ]
  },
  {
   "cell_type": "code",
   "execution_count": 17,
   "metadata": {},
   "outputs": [
    {
     "data": {
      "text/plain": [
       "array([[<matplotlib.axes._subplots.AxesSubplot object at 0x7f51a1236110>,\n",
       "        <matplotlib.axes._subplots.AxesSubplot object at 0x7f51a1002910>],\n",
       "       [<matplotlib.axes._subplots.AxesSubplot object at 0x7f51a0fbfc50>,\n",
       "        <matplotlib.axes._subplots.AxesSubplot object at 0x7f51a0f76950>]],\n",
       "      dtype=object)"
      ]
     },
     "execution_count": 17,
     "metadata": {},
     "output_type": "execute_result"
    }
   ],
   "source": [
    "net = genetic.networks[-1]\n",
    "df = pd.concat(\n",
    "    [pd.Series(net.layers[i].A.flatten(), name=f\"A{i}\") for i in range(len(net.layers))],\n",
    "    axis=1\n",
    ")\n",
    "df.hist(bins=20)"
   ]
  },
  {
   "cell_type": "code",
   "execution_count": 18,
   "metadata": {},
   "outputs": [
    {
     "data": {
      "text/plain": [
       "array([[<matplotlib.axes._subplots.AxesSubplot object at 0x7f51a1035590>,\n",
       "        <matplotlib.axes._subplots.AxesSubplot object at 0x7f51a0df8e90>],\n",
       "       [<matplotlib.axes._subplots.AxesSubplot object at 0x7f51a0db86d0>,\n",
       "        <matplotlib.axes._subplots.AxesSubplot object at 0x7f51a0de9ed0>],\n",
       "       [<matplotlib.axes._subplots.AxesSubplot object at 0x7f51a0dab710>,\n",
       "        <matplotlib.axes._subplots.AxesSubplot object at 0x7f51a0d61f10>]],\n",
       "      dtype=object)"
      ]
     },
     "execution_count": 18,
     "metadata": {},
     "output_type": "execute_result"
    }
   ],
   "source": [
    "## Backprop specific\n",
    "net = bp.networks[-1]\n",
    "df = pd.concat(\n",
    "    [pd.Series(net.layers[i].delta_W.flatten(), name=f\"delta_W{i}\") for i in range(len(net.layers))],\n",
    "    axis=1\n",
    ")\n",
    "df.hist(bins=20)"
   ]
  },
  {
   "cell_type": "markdown",
   "metadata": {},
   "source": [
    "### Numexpr vs. Numpy"
   ]
  },
  {
   "cell_type": "code",
   "execution_count": 10,
   "metadata": {},
   "outputs": [
    {
     "name": "stdout",
     "output_type": "stream",
     "text": [
      "2.46 s ± 183 ms per loop (mean ± std. dev. of 7 runs, 1 loop each)\n"
     ]
    }
   ],
   "source": [
    "%%timeit\n",
    "A = np.random.random((10000, 5000))\n",
    "for _ in range(10):\n",
    "    A = ne.evaluate(\"cos(A)\")"
   ]
  },
  {
   "cell_type": "code",
   "execution_count": 11,
   "metadata": {},
   "outputs": [
    {
     "name": "stdout",
     "output_type": "stream",
     "text": [
      "6.07 s ± 155 ms per loop (mean ± std. dev. of 7 runs, 1 loop each)\n"
     ]
    }
   ],
   "source": [
    "%%timeit\n",
    "A = np.random.random((10000, 5000))\n",
    "for _ in range(10):\n",
    "    A = np.cos(A)"
   ]
  },
  {
   "cell_type": "code",
   "execution_count": null,
   "metadata": {},
   "outputs": [],
   "source": []
  }
 ],
 "metadata": {
  "kernelspec": {
   "display_name": "Python 3",
   "language": "python",
   "name": "python3"
  },
  "language_info": {
   "codemirror_mode": {
    "name": "ipython",
    "version": 3
   },
   "file_extension": ".py",
   "mimetype": "text/x-python",
   "name": "python",
   "nbconvert_exporter": "python",
   "pygments_lexer": "ipython3",
   "version": "3.7.5"
  }
 },
 "nbformat": 4,
 "nbformat_minor": 2
}
