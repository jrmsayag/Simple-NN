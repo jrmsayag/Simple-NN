{
 "cells": [
  {
   "cell_type": "markdown",
   "metadata": {},
   "source": [
    "# Imports"
   ]
  },
  {
   "cell_type": "code",
   "execution_count": 1,
   "metadata": {},
   "outputs": [],
   "source": [
    "import numpy as np\n",
    "import pandas as pd\n",
    "import numexpr as ne"
   ]
  },
  {
   "cell_type": "code",
   "execution_count": 2,
   "metadata": {},
   "outputs": [],
   "source": [
    "from simplenn.activations import LRelu\n",
    "from simplenn.loss import Square\n",
    "from simplenn.network import Network\n",
    "from simplenn.network import Layer\n",
    "from simplenn.optim import BackProp\n",
    "from simplenn.optim import Genetic"
   ]
  },
  {
   "cell_type": "code",
   "execution_count": 3,
   "metadata": {},
   "outputs": [
    {
     "name": "stdout",
     "output_type": "stream",
     "text": [
      "Using matplotlib backend: TkAgg\n"
     ]
    }
   ],
   "source": [
    "%matplotlib"
   ]
  },
  {
   "cell_type": "markdown",
   "metadata": {},
   "source": [
    "# Data"
   ]
  },
  {
   "cell_type": "code",
   "execution_count": 4,
   "metadata": {},
   "outputs": [],
   "source": [
    "xs = np.array(\n",
    "    [\n",
    "        [0,0,0,0,0,0,0,0,0,1],\n",
    "        [0,0,0,0,0,0,0,0,1,0],\n",
    "        [0,0,0,0,0,0,0,1,0,0],\n",
    "        [0,0,0,0,0,0,1,0,0,0],\n",
    "        [0,0,0,0,0,1,0,0,0,0],\n",
    "        [0,0,0,0,1,0,0,0,0,0],\n",
    "        [0,0,0,1,0,0,0,0,0,0],\n",
    "        [0,0,1,0,0,0,0,0,0,0],\n",
    "        [0,1,0,0,0,0,0,0,0,0],\n",
    "        [1,0,0,0,0,0,0,0,0,0]\n",
    "    ],\n",
    "    dtype='float64'\n",
    ").T\n",
    "\n",
    "ys = np.array(\n",
    "    [\n",
    "        [0,0,0,0],\n",
    "        [0,0,0,1],\n",
    "        [0,0,1,0],\n",
    "        [0,0,1,1],\n",
    "        [0,1,0,0],\n",
    "        [0,1,0,1],\n",
    "        [0,1,1,0],\n",
    "        [0,1,1,1],\n",
    "        [1,0,0,0],\n",
    "        [1,0,0,1]\n",
    "    ],\n",
    "    dtype='float64'\n",
    ").T"
   ]
  },
  {
   "cell_type": "markdown",
   "metadata": {},
   "source": [
    "# Experiments"
   ]
  },
  {
   "cell_type": "markdown",
   "metadata": {},
   "source": [
    "### Genetic Training"
   ]
  },
  {
   "cell_type": "code",
   "execution_count": 5,
   "metadata": {},
   "outputs": [],
   "source": [
    "popSize = 50\n",
    "nElitism = 0\n",
    "generations = 500\n",
    "tournamentSize = 5\n",
    "mutationProba = 0.5\n",
    "mutationScale = 0.01\n",
    "mutationRelative = False\n",
    "verboseFreq = 50\n",
    "recordFreq = 50"
   ]
  },
  {
   "cell_type": "code",
   "execution_count": 8,
   "metadata": {},
   "outputs": [],
   "source": [
    "net = Network(\n",
    "    Square(),\n",
    "    [\n",
    "        Layer(xs.shape[0], 7, LRelu(), \"kaiming\"),\n",
    "        Layer(7, ys.shape[0], LRelu(), \"kaiming\", True)\n",
    "    ]\n",
    ")"
   ]
  },
  {
   "cell_type": "code",
   "execution_count": 9,
   "metadata": {},
   "outputs": [
    {
     "name": "stdout",
     "output_type": "stream",
     "text": [
      "Generation 0: 5.62256482565631\n",
      "Generation 50: 0.9387081647728822\n",
      "Generation 100: 0.3504284777077845\n",
      "Generation 150: 0.14155920458767648\n",
      "Generation 200: 0.0176623529894496\n",
      "Generation 250: 0.005299284168837626\n",
      "Generation 300: 0.004981996290954782\n",
      "Generation 350: 0.004356877559225041\n",
      "Generation 400: 0.006473099771500696\n",
      "Generation 450: 0.004855844414092482\n"
     ]
    }
   ],
   "source": [
    "genetic = Genetic()\n",
    "net = genetic.run(\n",
    "    net, \n",
    "    xs, \n",
    "    ys, \n",
    "    popSize, \n",
    "    tournamentSize,\n",
    "    nElitism, \n",
    "    mutationProba, \n",
    "    mutationScale, \n",
    "    mutationRelative, \n",
    "    generations, \n",
    "    verboseFreq, \n",
    "    recordFreq)"
   ]
  },
  {
   "cell_type": "code",
   "execution_count": 10,
   "metadata": {},
   "outputs": [
    {
     "data": {
      "text/plain": [
       "array([[ 0.02, -0.  , -0.  , -0.  , -0.  , -0.  , -0.  , -0.  ,  1.03],\n",
       "       [-0.  , -0.  , -0.  , -0.  ,  0.99,  0.99,  1.03,  0.98, -0.  ],\n",
       "       [-0.  , -0.  ,  0.99,  0.99, -0.  , -0.  ,  1.03,  1.04, -0.  ],\n",
       "       [-0.  ,  1.01, -0.  ,  1.04, -0.  ,  1.06, -0.  ,  1.01, -0.  ]])"
      ]
     },
     "execution_count": 10,
     "metadata": {},
     "output_type": "execute_result"
    }
   ],
   "source": [
    "net.forward(xs[:,:9]).round(2)"
   ]
  },
  {
   "cell_type": "markdown",
   "metadata": {},
   "source": [
    "### Gradient Back-Propagation Training"
   ]
  },
  {
   "cell_type": "code",
   "execution_count": 11,
   "metadata": {},
   "outputs": [],
   "source": [
    "lRate = 0.001\n",
    "batchSize = xs.shape[1]\n",
    "epochs = 100*1000\n",
    "verboseFreq = 10*1000\n",
    "recordFreq = 10*1000"
   ]
  },
  {
   "cell_type": "code",
   "execution_count": 12,
   "metadata": {},
   "outputs": [],
   "source": [
    "net = Network(\n",
    "    Square(),\n",
    "    [\n",
    "        Layer(xs.shape[0], 7, LRelu(0.05), \"kaiming\"),\n",
    "        Layer(7, ys.shape[0], LRelu(0.05), \"kaiming\", True)\n",
    "    ]\n",
    ")"
   ]
  },
  {
   "cell_type": "code",
   "execution_count": 13,
   "metadata": {
    "scrolled": true
   },
   "outputs": [
    {
     "name": "stdout",
     "output_type": "stream",
     "text": [
      "Epoch 0: 8.3887049740548\n",
      "Epoch 10000: 1.2480554566946411\n",
      "Epoch 20000: 0.4190091611652043\n",
      "Epoch 30000: 0.09569065505533962\n",
      "Epoch 40000: 0.017792026459412795\n",
      "Epoch 50000: 0.0038491470477052137\n",
      "Epoch 60000: 0.001200422366522551\n",
      "Epoch 70000: 0.0005427603076387476\n",
      "Epoch 80000: 0.00032457090177839907\n",
      "Epoch 90000: 0.00023379080888724798\n"
     ]
    },
    {
     "data": {
      "text/plain": [
       "<simplenn.network.network.Network at 0x7fe3d595b490>"
      ]
     },
     "execution_count": 13,
     "metadata": {},
     "output_type": "execute_result"
    }
   ],
   "source": [
    "bp = BackProp()\n",
    "bp.run(net, xs, ys, batchSize, lRate, epochs, verboseFreq, recordFreq)"
   ]
  },
  {
   "cell_type": "code",
   "execution_count": 14,
   "metadata": {},
   "outputs": [
    {
     "data": {
      "text/plain": [
       "array([[-0.  ,  0.  ,  0.  , -0.  , -0.  ,  0.01, -0.  , -0.01,  1.  ],\n",
       "       [-0.  ,  0.  ,  0.01, -0.  ,  1.  ,  1.  ,  1.  ,  1.  , -0.  ],\n",
       "       [-0.  ,  0.  ,  1.  ,  1.  , -0.  ,  0.  ,  1.01,  0.99, -0.  ],\n",
       "       [-0.  ,  1.  ,  0.  ,  1.  , -0.  ,  1.  ,  0.  ,  1.  , -0.  ]])"
      ]
     },
     "execution_count": 14,
     "metadata": {},
     "output_type": "execute_result"
    }
   ],
   "source": [
    "net.forward(xs[:,:9]).round(2)"
   ]
  },
  {
   "cell_type": "markdown",
   "metadata": {},
   "source": [
    "### Weights exploration"
   ]
  },
  {
   "cell_type": "code",
   "execution_count": 76,
   "metadata": {},
   "outputs": [
    {
     "data": {
      "text/plain": [
       "array([[-0.50353252, -0.7438632 , -0.98149671, -0.52687593,  0.48586229,\n",
       "        -0.19199454,  0.51301159, -0.23947582,  0.60441195,  0.71573741],\n",
       "       [ 0.53088656,  0.67428931, -1.60380151, -1.0630602 , -0.13421359,\n",
       "         0.08313299,  0.8626483 ,  1.00173144,  0.55501633,  0.71116043],\n",
       "       [-2.09930766,  0.25535884,  0.31498162,  0.87877578, -1.11811146,\n",
       "         0.42334603,  0.34976201,  0.8150063 ,  0.07705778,  0.40759563],\n",
       "       [ 0.39736466,  0.33332055, -0.82968975, -0.14341508, -0.37056746,\n",
       "         0.03519385, -0.28854572, -0.72349644, -1.37422008, -0.23418814],\n",
       "       [ 0.34458334, -0.6615937 ,  0.54314591,  0.02720344,  0.29978532,\n",
       "        -0.21600941,  0.67240304,  0.35797181,  0.32475208, -1.07483822],\n",
       "       [-1.23480792, -0.6093184 ,  0.4661368 ,  0.26956696,  1.00189553,\n",
       "         0.85654215, -0.50588299, -0.87564111,  0.3776834 ,  0.33993472],\n",
       "       [ 0.76250696,  0.41734871, -1.40686184, -1.3727252 ,  0.00461855,\n",
       "        -0.50132029, -0.411048  ,  0.33404063,  0.73710258, -0.76816598]])"
      ]
     },
     "execution_count": 76,
     "metadata": {},
     "output_type": "execute_result"
    }
   ],
   "source": [
    "net.layers[0].W"
   ]
  },
  {
   "cell_type": "code",
   "execution_count": 355,
   "metadata": {},
   "outputs": [
    {
     "data": {
      "text/plain": [
       "array([[-2.11372323e-01],\n",
       "       [-1.27713963e+00],\n",
       "       [ 2.16188538e-01],\n",
       "       [-3.22498897e+00],\n",
       "       [-3.92488673e+00],\n",
       "       [-3.54475436e-02],\n",
       "       [-3.73075906e+00],\n",
       "       [-5.25937587e-01],\n",
       "       [ 3.86582433e-03],\n",
       "       [ 2.54796674e+00]])"
      ]
     },
     "execution_count": 355,
     "metadata": {},
     "output_type": "execute_result"
    }
   ],
   "source": [
    "net.layers[0].B"
   ]
  },
  {
   "cell_type": "code",
   "execution_count": 356,
   "metadata": {},
   "outputs": [
    {
     "data": {
      "text/plain": [
       "array([[-4.07636208, -0.13527109, -0.09725526, -3.87823325, -0.50223101,\n",
       "        -5.1263356 , -0.56963821,  0.18459425,  0.57068787,  3.20610628],\n",
       "       [-5.640668  ,  0.18420762, -4.2295531 , -0.64919038, -1.89953147,\n",
       "         0.74924687,  1.28250049, -0.56709113,  0.51081547,  2.78299899],\n",
       "       [ 5.05570252,  1.16659895, -3.27955841, -0.14404652,  4.30854958,\n",
       "         0.55440625, -1.11615986, -0.29924194, -0.61474407, -0.46652216],\n",
       "       [-3.24576778,  0.36209839, -0.68468027, -0.99633798, -0.08204685,\n",
       "         1.52744847,  1.96596776,  0.46663185, -0.24713109,  0.69115127],\n",
       "       [ 1.25171853, -0.98715313,  1.71372113,  1.68322207, -1.78604604,\n",
       "         0.05520921, -3.16725124, -0.44534853, -0.00765816, -1.04281098],\n",
       "       [ 2.52557192,  1.06029334, -0.93715661, -0.89932734, -1.24260812,\n",
       "         5.31123914,  1.72137857, -0.16985234,  0.04836965, -0.74974051],\n",
       "       [ 5.20460262,  0.64543036,  0.02838262, -2.36629912,  4.29518085,\n",
       "        -3.20109392, -0.01082983,  1.35958486,  0.40359006, -2.30166813],\n",
       "       [ 4.85165886, -0.91887786,  0.63521629, -4.07731711, -1.29676224,\n",
       "         1.83775691, -7.36697383, -0.08652374, -0.07391525,  3.89930016],\n",
       "       [-3.64915722, -0.98312538,  1.31409569, -1.90003533, -1.90966004,\n",
       "         0.17397929, -1.69349668, -0.63846227, -0.02227395, -1.19169064],\n",
       "       [-1.98963797, -1.08139469,  0.98321721, -3.1001932 , -0.26228409,\n",
       "        -3.17192583, -0.6728388 , -0.43009481,  0.34942751,  0.86261766]])"
      ]
     },
     "execution_count": 356,
     "metadata": {},
     "output_type": "execute_result"
    }
   ],
   "source": [
    "net.layers[1].W"
   ]
  },
  {
   "cell_type": "code",
   "execution_count": 357,
   "metadata": {},
   "outputs": [
    {
     "data": {
      "text/plain": [
       "array([[-0.11100739],\n",
       "       [-0.06765569],\n",
       "       [-0.12821934],\n",
       "       [-0.31170664],\n",
       "       [-0.03842876],\n",
       "       [-0.00603929],\n",
       "       [-0.16960522],\n",
       "       [ 0.5176651 ],\n",
       "       [-0.69623932],\n",
       "       [ 0.44453535]])"
      ]
     },
     "execution_count": 357,
     "metadata": {},
     "output_type": "execute_result"
    }
   ],
   "source": [
    "net.layers[1].B"
   ]
  },
  {
   "cell_type": "markdown",
   "metadata": {},
   "source": [
    "### Numexpr vs. Numpy"
   ]
  },
  {
   "cell_type": "code",
   "execution_count": 10,
   "metadata": {},
   "outputs": [
    {
     "name": "stdout",
     "output_type": "stream",
     "text": [
      "2.46 s ± 183 ms per loop (mean ± std. dev. of 7 runs, 1 loop each)\n"
     ]
    }
   ],
   "source": [
    "%%timeit\n",
    "A = np.random.random((10000, 5000))\n",
    "for _ in range(10):\n",
    "    A = ne.evaluate(\"cos(A)\")"
   ]
  },
  {
   "cell_type": "code",
   "execution_count": 11,
   "metadata": {},
   "outputs": [
    {
     "name": "stdout",
     "output_type": "stream",
     "text": [
      "6.07 s ± 155 ms per loop (mean ± std. dev. of 7 runs, 1 loop each)\n"
     ]
    }
   ],
   "source": [
    "%%timeit\n",
    "A = np.random.random((10000, 5000))\n",
    "for _ in range(10):\n",
    "    A = np.cos(A)"
   ]
  },
  {
   "cell_type": "code",
   "execution_count": null,
   "metadata": {},
   "outputs": [],
   "source": []
  }
 ],
 "metadata": {
  "kernelspec": {
   "display_name": "Python 3",
   "language": "python",
   "name": "python3"
  },
  "language_info": {
   "codemirror_mode": {
    "name": "ipython",
    "version": 3
   },
   "file_extension": ".py",
   "mimetype": "text/x-python",
   "name": "python",
   "nbconvert_exporter": "python",
   "pygments_lexer": "ipython3",
   "version": "3.7.5"
  }
 },
 "nbformat": 4,
 "nbformat_minor": 2
}
