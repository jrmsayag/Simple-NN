{
 "cells": [
  {
   "cell_type": "markdown",
   "metadata": {},
   "source": [
    "# Imports"
   ]
  },
  {
   "cell_type": "code",
   "execution_count": 1,
   "metadata": {},
   "outputs": [],
   "source": [
    "import numpy as np\n",
    "import pandas as pd\n",
    "import numexpr as ne"
   ]
  },
  {
   "cell_type": "code",
   "execution_count": 2,
   "metadata": {},
   "outputs": [],
   "source": [
    "from simplenn.activations import LRelu\n",
    "from simplenn.activations import Sigmoid\n",
    "from simplenn.activations import TanH\n",
    "from simplenn.loss import Square\n",
    "from simplenn.loss import NegLogLike\n",
    "from simplenn.network import Network\n",
    "from simplenn.network import Layer\n",
    "from simplenn.optim import BackProp\n",
    "from simplenn.optim import Genetic"
   ]
  },
  {
   "cell_type": "code",
   "execution_count": 3,
   "metadata": {},
   "outputs": [
    {
     "name": "stdout",
     "output_type": "stream",
     "text": [
      "Using matplotlib backend: TkAgg\n"
     ]
    }
   ],
   "source": [
    "%matplotlib"
   ]
  },
  {
   "cell_type": "markdown",
   "metadata": {},
   "source": [
    "# Data"
   ]
  },
  {
   "cell_type": "code",
   "execution_count": 4,
   "metadata": {},
   "outputs": [],
   "source": [
    "xs = np.array(\n",
    "    [\n",
    "        [0,0,0,0,0,0,0,0,0,1],\n",
    "        [0,0,0,0,0,0,0,0,1,0],\n",
    "        [0,0,0,0,0,0,0,1,0,0],\n",
    "        [0,0,0,0,0,0,1,0,0,0],\n",
    "        [0,0,0,0,0,1,0,0,0,0],\n",
    "        [0,0,0,0,1,0,0,0,0,0],\n",
    "        [0,0,0,1,0,0,0,0,0,0],\n",
    "        [0,0,1,0,0,0,0,0,0,0],\n",
    "        [0,1,0,0,0,0,0,0,0,0],\n",
    "        [1,0,0,0,0,0,0,0,0,0]\n",
    "    ],\n",
    "    dtype='float64'\n",
    ").T\n",
    "\n",
    "ys = np.array(\n",
    "    [\n",
    "        [0,0,0,0],\n",
    "        [0,0,0,1],\n",
    "        [0,0,1,0],\n",
    "        [0,0,1,1],\n",
    "        [0,1,0,0],\n",
    "        [0,1,0,1],\n",
    "        [0,1,1,0],\n",
    "        [0,1,1,1],\n",
    "        [1,0,0,0],\n",
    "        [1,0,0,1]\n",
    "    ],\n",
    "    dtype='float64'\n",
    ").T"
   ]
  },
  {
   "cell_type": "markdown",
   "metadata": {},
   "source": [
    "# Experiments"
   ]
  },
  {
   "cell_type": "markdown",
   "metadata": {},
   "source": [
    "### Genetic Training"
   ]
  },
  {
   "cell_type": "code",
   "execution_count": 5,
   "metadata": {},
   "outputs": [],
   "source": [
    "popSize = 50\n",
    "nElitism = 0\n",
    "generations = 500\n",
    "tournamentSize = 5\n",
    "mutationProba = 0.5\n",
    "mutationScale = 0.05\n",
    "mutationRelative = False\n",
    "verboseFreq = 50\n",
    "recordFreq = 50"
   ]
  },
  {
   "cell_type": "code",
   "execution_count": 6,
   "metadata": {},
   "outputs": [],
   "source": [
    "net = Network(\n",
    "    NegLogLike(),\n",
    "    [\n",
    "        Layer(xs.shape[0], 7, TanH(), \"kaiming\"),\n",
    "        Layer(7, 7, TanH(), \"kaiming\"),\n",
    "        Layer(7, ys.shape[0], Sigmoid(), \"kaiming\", True)\n",
    "    ]\n",
    ")"
   ]
  },
  {
   "cell_type": "code",
   "execution_count": 7,
   "metadata": {
    "scrolled": true
   },
   "outputs": [
    {
     "name": "stdout",
     "output_type": "stream",
     "text": [
      "Generation 0 (ep. 500): 25.473680807591798\n",
      "Generation 50 (ep. 25500): 7.137484474284861\n",
      "Generation 100 (ep. 50500): 1.4880195741731161\n",
      "Generation 150 (ep. 75500): 0.39859134753565734\n",
      "Generation 200 (ep. 100500): 0.11345085517207781\n",
      "Generation 250 (ep. 125500): 0.0432382029400539\n",
      "Generation 300 (ep. 150500): 0.014588955394343444\n",
      "Generation 350 (ep. 175500): 0.005511634910153232\n",
      "Generation 400 (ep. 200500): 0.002504199403947998\n",
      "Generation 450 (ep. 225500): 0.0008134118041144852\n"
     ]
    }
   ],
   "source": [
    "genetic = Genetic()\n",
    "net = genetic.run(\n",
    "    net, \n",
    "    xs, \n",
    "    ys, \n",
    "    popSize, \n",
    "    tournamentSize,\n",
    "    nElitism, \n",
    "    mutationProba, \n",
    "    mutationScale, \n",
    "    mutationRelative, \n",
    "    generations, \n",
    "    verboseFreq, \n",
    "    recordFreq)"
   ]
  },
  {
   "cell_type": "code",
   "execution_count": 14,
   "metadata": {},
   "outputs": [
    {
     "data": {
      "text/plain": [
       "array([[0., 0., 0., 0., 0., 0., 0., 0., 1.],\n",
       "       [0., 0., 0., 0., 1., 1., 1., 1., 0.],\n",
       "       [0., 0., 1., 1., 0., 0., 1., 1., 0.],\n",
       "       [0., 1., 0., 1., 0., 1., 0., 1., 0.]])"
      ]
     },
     "execution_count": 14,
     "metadata": {},
     "output_type": "execute_result"
    }
   ],
   "source": [
    "net.forward(xs[:,:9]).round(2)"
   ]
  },
  {
   "cell_type": "markdown",
   "metadata": {},
   "source": [
    "### Gradient Back-Propagation Training"
   ]
  },
  {
   "cell_type": "code",
   "execution_count": 21,
   "metadata": {},
   "outputs": [],
   "source": [
    "lRate = 0.1\n",
    "batchSize = xs.shape[1]\n",
    "epochs = 100*1000\n",
    "verboseFreq = 10*1000\n",
    "recordFreq = 10*1000"
   ]
  },
  {
   "cell_type": "code",
   "execution_count": 22,
   "metadata": {},
   "outputs": [],
   "source": [
    "net = Network(\n",
    "    NegLogLike(),\n",
    "    [\n",
    "        Layer(xs.shape[0], 7, TanH(), \"xavier\"),\n",
    "        Layer(7, 7, TanH(), \"xavier\"),\n",
    "        Layer(7, 7, TanH(), \"xavier\"),\n",
    "        Layer(7, 7, TanH(), \"xavier\"),\n",
    "        Layer(7, ys.shape[0], Sigmoid(), \"xavier\", True)\n",
    "    ]\n",
    ")"
   ]
  },
  {
   "cell_type": "code",
   "execution_count": 23,
   "metadata": {
    "scrolled": true
   },
   "outputs": [
    {
     "name": "stdout",
     "output_type": "stream",
     "text": [
      "Epoch 0: 30.55962935362183\n",
      "Epoch 10000: 0.031092126281907672\n",
      "Epoch 20000: 0.015185132675520916\n",
      "Epoch 30000: 0.010040424675436999\n",
      "Epoch 40000: 0.007498070007567846\n",
      "Epoch 50000: 0.00598241444927417\n",
      "Epoch 60000: 0.0049761098073496084\n",
      "Epoch 70000: 0.0042593782928694365\n",
      "Epoch 80000: 0.0037229736162381535\n",
      "Epoch 90000: 0.003306459258550435\n"
     ]
    },
    {
     "data": {
      "text/plain": [
       "<simplenn.network.network.Network at 0x7fbc8fe25110>"
      ]
     },
     "execution_count": 23,
     "metadata": {},
     "output_type": "execute_result"
    }
   ],
   "source": [
    "bp = BackProp()\n",
    "bp.run(net, xs, ys, batchSize, lRate, epochs, verboseFreq, recordFreq)"
   ]
  },
  {
   "cell_type": "code",
   "execution_count": 24,
   "metadata": {},
   "outputs": [
    {
     "data": {
      "text/plain": [
       "array([[0., 0., 0., 0., 0., 0., 0., 0., 1.],\n",
       "       [0., 0., 0., 0., 1., 1., 1., 1., 0.],\n",
       "       [0., 0., 1., 1., 0., 0., 1., 1., 0.],\n",
       "       [0., 1., 0., 1., 0., 1., 0., 1., 0.]])"
      ]
     },
     "execution_count": 24,
     "metadata": {},
     "output_type": "execute_result"
    }
   ],
   "source": [
    "net.forward(xs[:,:9]).round(2)"
   ]
  },
  {
   "cell_type": "markdown",
   "metadata": {},
   "source": [
    "### Network exploration"
   ]
  },
  {
   "cell_type": "code",
   "execution_count": 14,
   "metadata": {},
   "outputs": [],
   "source": [
    "df = pd.DataFrame({\n",
    "    f\"Layer-{i}\":pd.Series([np.abs(n.layers[i].W).sum() for n in genetic.networks])\n",
    "    for i in range(len(genetic.networks[0].layers))\n",
    "}).plot(title='Weights Norm Evolution')"
   ]
  },
  {
   "cell_type": "code",
   "execution_count": 19,
   "metadata": {},
   "outputs": [],
   "source": [
    "## Backprop specific\n",
    "df = pd.DataFrame({\n",
    "    f\"Layer-{i}\":pd.Series([np.abs(n.layers[i].delta_W).sum() for n in bp.networks])\n",
    "    for i in range(len(bp.networks[0].layers))\n",
    "}).plot(title='Gradient Norm Evolution')"
   ]
  },
  {
   "cell_type": "code",
   "execution_count": 16,
   "metadata": {},
   "outputs": [
    {
     "data": {
      "text/plain": [
       "array([[<matplotlib.axes._subplots.AxesSubplot object at 0x7f518983fdd0>,\n",
       "        <matplotlib.axes._subplots.AxesSubplot object at 0x7f51897866d0>],\n",
       "       [<matplotlib.axes._subplots.AxesSubplot object at 0x7f51897b8ed0>,\n",
       "        <matplotlib.axes._subplots.AxesSubplot object at 0x7f5189779710>]],\n",
       "      dtype=object)"
      ]
     },
     "execution_count": 16,
     "metadata": {},
     "output_type": "execute_result"
    }
   ],
   "source": [
    "net = genetic.networks[-1]\n",
    "df = pd.concat(\n",
    "    [pd.Series(net.layers[i].W.flatten(), name=f\"W{i}\") for i in range(len(net.layers))],\n",
    "    axis=1\n",
    ")\n",
    "df.hist(bins=20)"
   ]
  },
  {
   "cell_type": "code",
   "execution_count": 17,
   "metadata": {},
   "outputs": [
    {
     "data": {
      "text/plain": [
       "array([[<matplotlib.axes._subplots.AxesSubplot object at 0x7f5189c57150>,\n",
       "        <matplotlib.axes._subplots.AxesSubplot object at 0x7f5189581fd0>],\n",
       "       [<matplotlib.axes._subplots.AxesSubplot object at 0x7f51895b6c90>,\n",
       "        <matplotlib.axes._subplots.AxesSubplot object at 0x7f51895764d0>]],\n",
       "      dtype=object)"
      ]
     },
     "execution_count": 17,
     "metadata": {},
     "output_type": "execute_result"
    }
   ],
   "source": [
    "net = genetic.networks[-1]\n",
    "df = pd.concat(\n",
    "    [pd.Series(net.layers[i].A.flatten(), name=f\"A{i}\") for i in range(len(net.layers))],\n",
    "    axis=1\n",
    ")\n",
    "df.hist(bins=20)"
   ]
  },
  {
   "cell_type": "code",
   "execution_count": 23,
   "metadata": {},
   "outputs": [
    {
     "data": {
      "text/plain": [
       "array([[<matplotlib.axes._subplots.AxesSubplot object at 0x7f39ef050610>,\n",
       "        <matplotlib.axes._subplots.AxesSubplot object at 0x7f39f0384c10>],\n",
       "       [<matplotlib.axes._subplots.AxesSubplot object at 0x7f39ef24eed0>,\n",
       "        <matplotlib.axes._subplots.AxesSubplot object at 0x7f39ef261710>],\n",
       "       [<matplotlib.axes._subplots.AxesSubplot object at 0x7f39ef203f10>,\n",
       "        <matplotlib.axes._subplots.AxesSubplot object at 0x7f39ef221750>]],\n",
       "      dtype=object)"
      ]
     },
     "execution_count": 23,
     "metadata": {},
     "output_type": "execute_result"
    }
   ],
   "source": [
    "## Backprop specific\n",
    "net = bp.networks[-1]\n",
    "df = pd.concat(\n",
    "    [pd.Series(net.layers[i].delta_W.flatten(), name=f\"delta_W{i}\") for i in range(len(net.layers))],\n",
    "    axis=1\n",
    ")\n",
    "df.hist(bins=20)"
   ]
  },
  {
   "cell_type": "markdown",
   "metadata": {},
   "source": [
    "### Numexpr vs. Numpy"
   ]
  },
  {
   "cell_type": "code",
   "execution_count": 10,
   "metadata": {},
   "outputs": [
    {
     "name": "stdout",
     "output_type": "stream",
     "text": [
      "2.46 s ± 183 ms per loop (mean ± std. dev. of 7 runs, 1 loop each)\n"
     ]
    }
   ],
   "source": [
    "%%timeit\n",
    "A = np.random.random((10000, 5000))\n",
    "for _ in range(10):\n",
    "    A = ne.evaluate(\"cos(A)\")"
   ]
  },
  {
   "cell_type": "code",
   "execution_count": 11,
   "metadata": {},
   "outputs": [
    {
     "name": "stdout",
     "output_type": "stream",
     "text": [
      "6.07 s ± 155 ms per loop (mean ± std. dev. of 7 runs, 1 loop each)\n"
     ]
    }
   ],
   "source": [
    "%%timeit\n",
    "A = np.random.random((10000, 5000))\n",
    "for _ in range(10):\n",
    "    A = np.cos(A)"
   ]
  },
  {
   "cell_type": "code",
   "execution_count": null,
   "metadata": {},
   "outputs": [],
   "source": []
  }
 ],
 "metadata": {
  "kernelspec": {
   "display_name": "Python 3",
   "language": "python",
   "name": "python3"
  },
  "language_info": {
   "codemirror_mode": {
    "name": "ipython",
    "version": 3
   },
   "file_extension": ".py",
   "mimetype": "text/x-python",
   "name": "python",
   "nbconvert_exporter": "python",
   "pygments_lexer": "ipython3",
   "version": "3.7.5"
  }
 },
 "nbformat": 4,
 "nbformat_minor": 2
}
