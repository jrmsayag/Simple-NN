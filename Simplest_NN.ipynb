{
 "cells": [
  {
   "cell_type": "markdown",
   "metadata": {},
   "source": [
    "# Imports"
   ]
  },
  {
   "cell_type": "code",
   "execution_count": 1,
   "metadata": {},
   "outputs": [],
   "source": [
    "import numpy as np\n",
    "import pandas as pd\n",
    "import numexpr as ne"
   ]
  },
  {
   "cell_type": "code",
   "execution_count": 181,
   "metadata": {},
   "outputs": [],
   "source": [
    "from simplenn.activations import LRelu\n",
    "from simplenn.activations import Sigmoid\n",
    "from simplenn.loss import Square\n",
    "from simplenn.loss import NegLogLike\n",
    "from simplenn.network import Network\n",
    "from simplenn.network import Layer\n",
    "from simplenn.optim import BackProp\n",
    "from simplenn.optim import Genetic"
   ]
  },
  {
   "cell_type": "code",
   "execution_count": 3,
   "metadata": {},
   "outputs": [
    {
     "name": "stdout",
     "output_type": "stream",
     "text": [
      "Using matplotlib backend: TkAgg\n"
     ]
    }
   ],
   "source": [
    "%matplotlib"
   ]
  },
  {
   "cell_type": "markdown",
   "metadata": {},
   "source": [
    "# Data"
   ]
  },
  {
   "cell_type": "code",
   "execution_count": 4,
   "metadata": {},
   "outputs": [],
   "source": [
    "xs = np.array(\n",
    "    [\n",
    "        [0,0,0,0,0,0,0,0,0,1],\n",
    "        [0,0,0,0,0,0,0,0,1,0],\n",
    "        [0,0,0,0,0,0,0,1,0,0],\n",
    "        [0,0,0,0,0,0,1,0,0,0],\n",
    "        [0,0,0,0,0,1,0,0,0,0],\n",
    "        [0,0,0,0,1,0,0,0,0,0],\n",
    "        [0,0,0,1,0,0,0,0,0,0],\n",
    "        [0,0,1,0,0,0,0,0,0,0],\n",
    "        [0,1,0,0,0,0,0,0,0,0],\n",
    "        [1,0,0,0,0,0,0,0,0,0]\n",
    "    ],\n",
    "    dtype='float64'\n",
    ").T\n",
    "\n",
    "ys = np.array(\n",
    "    [\n",
    "        [0,0,0,0],\n",
    "        [0,0,0,1],\n",
    "        [0,0,1,0],\n",
    "        [0,0,1,1],\n",
    "        [0,1,0,0],\n",
    "        [0,1,0,1],\n",
    "        [0,1,1,0],\n",
    "        [0,1,1,1],\n",
    "        [1,0,0,0],\n",
    "        [1,0,0,1]\n",
    "    ],\n",
    "    dtype='float64'\n",
    ").T"
   ]
  },
  {
   "cell_type": "markdown",
   "metadata": {},
   "source": [
    "# Experiments"
   ]
  },
  {
   "cell_type": "markdown",
   "metadata": {},
   "source": [
    "### Genetic Training"
   ]
  },
  {
   "cell_type": "code",
   "execution_count": 277,
   "metadata": {},
   "outputs": [],
   "source": [
    "popSize = 50\n",
    "nElitism = 0\n",
    "generations = 500\n",
    "tournamentSize = 5\n",
    "mutationProba = 0.5\n",
    "mutationScale = 0.05\n",
    "mutationRelative = False\n",
    "verboseFreq = 50\n",
    "recordFreq = 50"
   ]
  },
  {
   "cell_type": "code",
   "execution_count": 281,
   "metadata": {},
   "outputs": [],
   "source": [
    "net = Network(\n",
    "    NegLogLike(),\n",
    "    [\n",
    "        Layer(xs.shape[0], 7, Sigmoid(), \"kaiming\"),\n",
    "        Layer(7, 7, Sigmoid(), \"kaiming\"),\n",
    "        Layer(7, ys.shape[0], Sigmoid(), \"kaiming\", True)\n",
    "    ]\n",
    ")"
   ]
  },
  {
   "cell_type": "code",
   "execution_count": 282,
   "metadata": {
    "scrolled": true
   },
   "outputs": [
    {
     "name": "stdout",
     "output_type": "stream",
     "text": [
      "Generation 0: 25.91322245088901\n",
      "Generation 50: 20.890265081262186\n",
      "Generation 100: 14.755608441781513\n",
      "Generation 150: 9.20158141349874\n",
      "Generation 200: 4.730064556507463\n",
      "Generation 250: 2.1887633224844505\n",
      "Generation 300: 0.9833695592494265\n",
      "Generation 350: 0.44357320368785425\n",
      "Generation 400: 0.20361557358925475\n",
      "Generation 450: 0.09256175199798974\n"
     ]
    }
   ],
   "source": [
    "genetic = Genetic()\n",
    "net = genetic.run(\n",
    "    net, \n",
    "    xs, \n",
    "    ys, \n",
    "    popSize, \n",
    "    tournamentSize,\n",
    "    nElitism, \n",
    "    mutationProba, \n",
    "    mutationScale, \n",
    "    mutationRelative, \n",
    "    generations, \n",
    "    verboseFreq, \n",
    "    recordFreq)"
   ]
  },
  {
   "cell_type": "code",
   "execution_count": 283,
   "metadata": {},
   "outputs": [
    {
     "data": {
      "text/plain": [
       "array([[0., 0., 0., 0., 0., 0., 0., 0., 1.],\n",
       "       [0., 0., 0., 0., 1., 1., 1., 1., 0.],\n",
       "       [0., 0., 1., 1., 0., 0., 1., 1., 0.],\n",
       "       [0., 1., 0., 1., 0., 1., 0., 1., 0.]])"
      ]
     },
     "execution_count": 283,
     "metadata": {},
     "output_type": "execute_result"
    }
   ],
   "source": [
    "net.forward(xs[:,:9]).round(2)"
   ]
  },
  {
   "cell_type": "markdown",
   "metadata": {},
   "source": [
    "### Gradient Back-Propagation Training"
   ]
  },
  {
   "cell_type": "code",
   "execution_count": 216,
   "metadata": {},
   "outputs": [],
   "source": [
    "lRate = 0.1\n",
    "batchSize = xs.shape[1]\n",
    "epochs = 100*1000\n",
    "verboseFreq = 10*1000\n",
    "recordFreq = 10*1000"
   ]
  },
  {
   "cell_type": "code",
   "execution_count": 217,
   "metadata": {},
   "outputs": [],
   "source": [
    "net = Network(\n",
    "    NegLogLike(),\n",
    "    [\n",
    "        Layer(xs.shape[0], 7, Sigmoid(), \"xavier\"),\n",
    "        Layer(7, 7, Sigmoid(), \"xavier\"),\n",
    "        Layer(7, 7, Sigmoid(), \"xavier\"),\n",
    "        Layer(7, 7, Sigmoid(), \"xavier\"),\n",
    "        Layer(7, ys.shape[0], Sigmoid(), \"xavier\", True)\n",
    "    ]\n",
    ")"
   ]
  },
  {
   "cell_type": "code",
   "execution_count": 218,
   "metadata": {
    "scrolled": true
   },
   "outputs": [
    {
     "name": "stdout",
     "output_type": "stream",
     "text": [
      "Epoch 0: 29.25946514444577\n",
      "Epoch 10000: 16.779396662037254\n",
      "Epoch 20000: 1.254592869198135\n",
      "Epoch 30000: 0.17017421809823\n",
      "Epoch 40000: 0.0911041516415434\n",
      "Epoch 50000: 0.06221930847019495\n",
      "Epoch 60000: 0.04721026618189346\n",
      "Epoch 70000: 0.03801108867921158\n",
      "Epoch 80000: 0.03179621825331623\n",
      "Epoch 90000: 0.0273172823715613\n"
     ]
    },
    {
     "data": {
      "text/plain": [
       "<simplenn.network.network.Network at 0x7fe3c9eddc50>"
      ]
     },
     "execution_count": 218,
     "metadata": {},
     "output_type": "execute_result"
    }
   ],
   "source": [
    "bp = BackProp()\n",
    "bp.run(net, xs, ys, batchSize, lRate, epochs, verboseFreq, recordFreq)"
   ]
  },
  {
   "cell_type": "code",
   "execution_count": 219,
   "metadata": {},
   "outputs": [
    {
     "data": {
      "text/plain": [
       "array([[0., 0., 0., 0., 0., 0., 0., 0., 1.],\n",
       "       [0., 0., 0., 0., 1., 1., 1., 1., 0.],\n",
       "       [0., 0., 1., 1., 0., 0., 1., 1., 0.],\n",
       "       [0., 1., 0., 1., 0., 1., 0., 1., 0.]])"
      ]
     },
     "execution_count": 219,
     "metadata": {},
     "output_type": "execute_result"
    }
   ],
   "source": [
    "net.forward(xs[:,:9]).round(2)"
   ]
  },
  {
   "cell_type": "markdown",
   "metadata": {},
   "source": [
    "### Network exploration"
   ]
  },
  {
   "cell_type": "code",
   "execution_count": 232,
   "metadata": {},
   "outputs": [],
   "source": [
    "df = pd.DataFrame({\n",
    "    f\"Layer-{i}\":pd.Series([np.abs(n.layers[i].W).sum() for n in genetic.networks])\n",
    "    for i in range(len(genetic.networks[0].layers))\n",
    "}).plot(title='Weights Norm Evolution')"
   ]
  },
  {
   "cell_type": "code",
   "execution_count": 221,
   "metadata": {},
   "outputs": [],
   "source": [
    "df = pd.DataFrame({\n",
    "    f\"Layer-{i}\":pd.Series([np.abs(n.layers[i].delta_W).sum() for n in bp.networks])\n",
    "    for i in range(len(bp.networks[0].layers))\n",
    "}).plot(title='Gradient Norm Evolution')"
   ]
  },
  {
   "cell_type": "code",
   "execution_count": 206,
   "metadata": {},
   "outputs": [
    {
     "data": {
      "text/plain": [
       "array([[<matplotlib.axes._subplots.AxesSubplot object at 0x7fe3ca7d9f50>,\n",
       "        <matplotlib.axes._subplots.AxesSubplot object at 0x7fe3ca732d90>],\n",
       "       [<matplotlib.axes._subplots.AxesSubplot object at 0x7fe3ca6e7a50>,\n",
       "        <matplotlib.axes._subplots.AxesSubplot object at 0x7fe3ca6a6dd0>]],\n",
       "      dtype=object)"
      ]
     },
     "execution_count": 206,
     "metadata": {},
     "output_type": "execute_result"
    }
   ],
   "source": [
    "net = bp.networks[10]\n",
    "df = pd.concat(\n",
    "    [pd.Series(net.layers[i].W.flatten(), name=f\"W{i}\") for i in range(len(net.layers))],\n",
    "    axis=1\n",
    ")\n",
    "df.hist(bins=20)"
   ]
  },
  {
   "cell_type": "code",
   "execution_count": 207,
   "metadata": {},
   "outputs": [
    {
     "data": {
      "text/plain": [
       "array([[<matplotlib.axes._subplots.AxesSubplot object at 0x7fe3ca5962d0>,\n",
       "        <matplotlib.axes._subplots.AxesSubplot object at 0x7fe3ca4fc890>],\n",
       "       [<matplotlib.axes._subplots.AxesSubplot object at 0x7fe3ca4bbc10>,\n",
       "        <matplotlib.axes._subplots.AxesSubplot object at 0x7fe3ca4708d0>]],\n",
       "      dtype=object)"
      ]
     },
     "execution_count": 207,
     "metadata": {},
     "output_type": "execute_result"
    }
   ],
   "source": [
    "net = bp.networks[10]\n",
    "df = pd.concat(\n",
    "    [pd.Series(net.layers[i].A.flatten(), name=f\"A{i}\") for i in range(len(net.layers))],\n",
    "    axis=1\n",
    ")\n",
    "df.hist(bins=20)"
   ]
  },
  {
   "cell_type": "code",
   "execution_count": 208,
   "metadata": {},
   "outputs": [
    {
     "data": {
      "text/plain": [
       "array([[<matplotlib.axes._subplots.AxesSubplot object at 0x7fe3ca7e7e50>,\n",
       "        <matplotlib.axes._subplots.AxesSubplot object at 0x7fe3ca2cfed0>],\n",
       "       [<matplotlib.axes._subplots.AxesSubplot object at 0x7fe3ca292710>,\n",
       "        <matplotlib.axes._subplots.AxesSubplot object at 0x7fe3ca244f10>]],\n",
       "      dtype=object)"
      ]
     },
     "execution_count": 208,
     "metadata": {},
     "output_type": "execute_result"
    }
   ],
   "source": [
    "net = bp.networks[10]\n",
    "df = pd.concat(\n",
    "    [pd.Series(net.layers[i].delta_W.flatten(), name=f\"delta_W{i}\") for i in range(len(net.layers))],\n",
    "    axis=1\n",
    ")\n",
    "df.hist(bins=20)"
   ]
  },
  {
   "cell_type": "markdown",
   "metadata": {},
   "source": [
    "### Numexpr vs. Numpy"
   ]
  },
  {
   "cell_type": "code",
   "execution_count": 10,
   "metadata": {},
   "outputs": [
    {
     "name": "stdout",
     "output_type": "stream",
     "text": [
      "2.46 s ± 183 ms per loop (mean ± std. dev. of 7 runs, 1 loop each)\n"
     ]
    }
   ],
   "source": [
    "%%timeit\n",
    "A = np.random.random((10000, 5000))\n",
    "for _ in range(10):\n",
    "    A = ne.evaluate(\"cos(A)\")"
   ]
  },
  {
   "cell_type": "code",
   "execution_count": 11,
   "metadata": {},
   "outputs": [
    {
     "name": "stdout",
     "output_type": "stream",
     "text": [
      "6.07 s ± 155 ms per loop (mean ± std. dev. of 7 runs, 1 loop each)\n"
     ]
    }
   ],
   "source": [
    "%%timeit\n",
    "A = np.random.random((10000, 5000))\n",
    "for _ in range(10):\n",
    "    A = np.cos(A)"
   ]
  },
  {
   "cell_type": "code",
   "execution_count": null,
   "metadata": {},
   "outputs": [],
   "source": []
  }
 ],
 "metadata": {
  "kernelspec": {
   "display_name": "Python 3",
   "language": "python",
   "name": "python3"
  },
  "language_info": {
   "codemirror_mode": {
    "name": "ipython",
    "version": 3
   },
   "file_extension": ".py",
   "mimetype": "text/x-python",
   "name": "python",
   "nbconvert_exporter": "python",
   "pygments_lexer": "ipython3",
   "version": "3.7.5"
  }
 },
 "nbformat": 4,
 "nbformat_minor": 2
}
